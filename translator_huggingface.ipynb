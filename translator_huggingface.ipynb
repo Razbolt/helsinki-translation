{
  "nbformat": 4,
  "nbformat_minor": 0,
  "metadata": {
    "colab": {
      "provenance": [],
      "authorship_tag": "ABX9TyMZd0piW0oqtk/iW02w8SPv",
      "include_colab_link": true
    },
    "kernelspec": {
      "name": "python3",
      "display_name": "Python 3"
    },
    "language_info": {
      "name": "python"
    }
  },
  "cells": [
    {
      "cell_type": "markdown",
      "metadata": {
        "id": "view-in-github",
        "colab_type": "text"
      },
      "source": [
        "<a href=\"https://colab.research.google.com/github/Razbolt/helsinki-translation/blob/main/translator_huggingface.ipynb\" target=\"_parent\"><img src=\"https://colab.research.google.com/assets/colab-badge.svg\" alt=\"Open In Colab\"/></a>"
      ]
    },
    {
      "cell_type": "markdown",
      "source": [
        "# Helsinki Transformer model build and examples"
      ],
      "metadata": {
        "id": "rm2BwNz6uSYb"
      }
    },
    {
      "cell_type": "markdown",
      "source": [
        "#Helsinki"
      ],
      "metadata": {
        "id": "BOS8_AEj1XD6"
      }
    },
    {
      "cell_type": "markdown",
      "source": [
        "## 1.1 Installments"
      ],
      "metadata": {
        "id": "bMv9KWZDzhIF"
      }
    },
    {
      "cell_type": "code",
      "execution_count": null,
      "metadata": {
        "colab": {
          "base_uri": "https://localhost:8080/"
        },
        "id": "HVIqALzYtrFr",
        "outputId": "6f35209c-c152-44fb-da39-a7b2d4da3229"
      },
      "outputs": [
        {
          "output_type": "stream",
          "name": "stdout",
          "text": [
            "Looking in indexes: https://pypi.org/simple, https://us-python.pkg.dev/colab-wheels/public/simple/\n",
            "Requirement already satisfied: transformers in /usr/local/lib/python3.10/dist-packages (4.29.2)\n",
            "Requirement already satisfied: filelock in /usr/local/lib/python3.10/dist-packages (from transformers) (3.12.0)\n",
            "Requirement already satisfied: huggingface-hub<1.0,>=0.14.1 in /usr/local/lib/python3.10/dist-packages (from transformers) (0.14.1)\n",
            "Requirement already satisfied: numpy>=1.17 in /usr/local/lib/python3.10/dist-packages (from transformers) (1.22.4)\n",
            "Requirement already satisfied: packaging>=20.0 in /usr/local/lib/python3.10/dist-packages (from transformers) (23.1)\n",
            "Requirement already satisfied: pyyaml>=5.1 in /usr/local/lib/python3.10/dist-packages (from transformers) (6.0)\n",
            "Requirement already satisfied: regex!=2019.12.17 in /usr/local/lib/python3.10/dist-packages (from transformers) (2022.10.31)\n",
            "Requirement already satisfied: requests in /usr/local/lib/python3.10/dist-packages (from transformers) (2.27.1)\n",
            "Requirement already satisfied: tokenizers!=0.11.3,<0.14,>=0.11.1 in /usr/local/lib/python3.10/dist-packages (from transformers) (0.13.3)\n",
            "Requirement already satisfied: tqdm>=4.27 in /usr/local/lib/python3.10/dist-packages (from transformers) (4.65.0)\n",
            "Requirement already satisfied: fsspec in /usr/local/lib/python3.10/dist-packages (from huggingface-hub<1.0,>=0.14.1->transformers) (2023.4.0)\n",
            "Requirement already satisfied: typing-extensions>=3.7.4.3 in /usr/local/lib/python3.10/dist-packages (from huggingface-hub<1.0,>=0.14.1->transformers) (4.5.0)\n",
            "Requirement already satisfied: urllib3<1.27,>=1.21.1 in /usr/local/lib/python3.10/dist-packages (from requests->transformers) (1.26.15)\n",
            "Requirement already satisfied: certifi>=2017.4.17 in /usr/local/lib/python3.10/dist-packages (from requests->transformers) (2022.12.7)\n",
            "Requirement already satisfied: charset-normalizer~=2.0.0 in /usr/local/lib/python3.10/dist-packages (from requests->transformers) (2.0.12)\n",
            "Requirement already satisfied: idna<4,>=2.5 in /usr/local/lib/python3.10/dist-packages (from requests->transformers) (2.10)\n"
          ]
        }
      ],
      "source": [
        "pip install transformers\n"
      ]
    },
    {
      "cell_type": "markdown",
      "source": [
        "## 1.2 Model deployment"
      ],
      "metadata": {
        "id": "tFPp0_KnzkWb"
      }
    },
    {
      "cell_type": "code",
      "source": [
        "\n",
        "!pip install sentencepiece\n",
        "\n",
        "from transformers import AutoTokenizer, AutoModelForSeq2SeqLM\n",
        "\n",
        "tokenizer = AutoTokenizer.from_pretrained(\"Helsinki-NLP/opus-tatoeba-en-tr\")\n",
        "\n",
        "model = AutoModelForSeq2SeqLM.from_pretrained(\"Helsinki-NLP/opus-tatoeba-en-tr\")\n",
        "\n"
      ],
      "metadata": {
        "colab": {
          "base_uri": "https://localhost:8080/"
        },
        "id": "pr9IBQxquutl",
        "outputId": "b395ddfc-d8cc-4cec-8d28-77ec853395be"
      },
      "execution_count": null,
      "outputs": [
        {
          "output_type": "stream",
          "name": "stdout",
          "text": [
            "Looking in indexes: https://pypi.org/simple, https://us-python.pkg.dev/colab-wheels/public/simple/\n",
            "Requirement already satisfied: sentencepiece in /usr/local/lib/python3.10/dist-packages (0.1.99)\n"
          ]
        },
        {
          "output_type": "stream",
          "name": "stderr",
          "text": [
            "/usr/local/lib/python3.10/dist-packages/transformers/models/marian/tokenization_marian.py:194: UserWarning: Recommended: pip install sacremoses.\n",
            "  warnings.warn(\"Recommended: pip install sacremoses.\")\n"
          ]
        }
      ]
    },
    {
      "cell_type": "code",
      "source": [
        "def translate(text):\n",
        "    inputs = tokenizer.encode(text, return_tensors=\"pt\")\n",
        "    outputs = model.generate(inputs, max_length=25000, num_beams=4, early_stopping=True)\n",
        "    return tokenizer.decode(outputs[0])\n"
      ],
      "metadata": {
        "id": "BOB6O91NMk-t"
      },
      "execution_count": null,
      "outputs": []
    },
    {
      "cell_type": "code",
      "source": [
        "#@title Test with financial texts\n",
        "helsinki_list = []\n",
        "original_list = []\n",
        "finansal_veriler = [\n",
        "    \"The company's quarterly revenue exceeded expectations due to the successful launch of its new product.\",\n",
        "    \"Inflation has risen rapidly in the past few months, causing concern among investors.\",\n",
        "    \"The central bank raised interest rates in an attempt to curb the rising inflation.\",\n",
        "    \"According to the financial statements, the company's operating margin has improved significantly.\",\n",
        "    \"Despite the economic downturn, the tech sector continues to perform well in the stock market.\",\n",
        "    \"The fluctuating exchange rates have a significant impact on the multinational corporation's profits.\",\n",
        "    \"The board of directors approved a share buyback program to return capital to shareholders.\",\n",
        "    \"Economists warn of potential risks associated with the country's rising public debt.\",\n",
        "    \"Due to the financial crisis, the company has been forced to declare bankruptcy.\",\n",
        "    \"Investors are optimistic about the upcoming merger between the two companies.\"\n",
        "]\n",
        "\n",
        "for data in finansal_veriler:\n",
        "    translation = translate(data)\n",
        "    helsinki_list.append(translation)\n",
        "    original_list.append(data)\n",
        "    print(f'Original Text: {data}\\nTranslated Text: {translation}\\n{\"-\"*50}')\n"
      ],
      "metadata": {
        "colab": {
          "base_uri": "https://localhost:8080/"
        },
        "id": "alNIpAyo4Vcc",
        "outputId": "95120f59-c215-42d5-bcef-b0f114ed6d84"
      },
      "execution_count": null,
      "outputs": [
        {
          "output_type": "stream",
          "name": "stdout",
          "text": [
            "Original Text: The company's quarterly revenue exceeded expectations due to the successful launch of its new product.\n",
            "Translated Text: <pad> Şirketin üç aylık geliri, yeni ürününün başarılı bir şekilde piyasaya sürülmesi nedeniyle beklentileri aştı.</s>\n",
            "--------------------------------------------------\n",
            "Original Text: Inflation has risen rapidly in the past few months, causing concern among investors.\n",
            "Translated Text: <pad> Son birkaç ayda enflasyon hızla artarak yatırımcılar arasında endişeye yol açtı.</s>\n",
            "--------------------------------------------------\n",
            "Original Text: The central bank raised interest rates in an attempt to curb the rising inflation.\n",
            "Translated Text: <pad> Merkez bankası yükselen enflasyonu önleme girişiminde faiz oranlarını artırdı.</s>\n",
            "--------------------------------------------------\n",
            "Original Text: According to the financial statements, the company's operating margin has improved significantly.\n",
            "Translated Text: <pad> Finansal açıklamalara göre şirketin faaliyet marjı önemli ölçüde gelişmiştir.</s>\n",
            "--------------------------------------------------\n",
            "Original Text: Despite the economic downturn, the tech sector continues to perform well in the stock market.\n",
            "Translated Text: <pad> Ekonomik düşüşe rağmen teknoloji sektörü borsada iyi performans göstermeye devam ediyor.</s>\n",
            "--------------------------------------------------\n",
            "Original Text: The fluctuating exchange rates have a significant impact on the multinational corporation's profits.\n",
            "Translated Text: <pad> Değişken döviz oranlarının çok uluslu şirketin kârı üzerinde önemli bir etkisi var.</s>\n",
            "--------------------------------------------------\n",
            "Original Text: The board of directors approved a share buyback program to return capital to shareholders.\n",
            "Translated Text: <pad> Yönetim kurulu sermayeyi hissedarlara iade etmek için bir hisse satın alma programını onayladı.</s>\n",
            "--------------------------------------------------\n",
            "Original Text: Economists warn of potential risks associated with the country's rising public debt.\n",
            "Translated Text: <pad> Ekonomistler, ülkenin artan kamu borcuyla ilişkili potansiyel riskler konusunda uyarıyorlar.</s>\n",
            "--------------------------------------------------\n",
            "Original Text: Due to the financial crisis, the company has been forced to declare bankruptcy.\n",
            "Translated Text: <pad> Finansal kriz nedeniyle şirket iflası ilan etmek zorunda kaldı.</s>\n",
            "--------------------------------------------------\n",
            "Original Text: Investors are optimistic about the upcoming merger between the two companies.\n",
            "Translated Text: <pad> Yatırımcılar iki şirket arasındaki birleşme konusunda iyimserler.</s>\n",
            "--------------------------------------------------\n"
          ]
        }
      ]
    },
    {
      "cell_type": "markdown",
      "source": [
        "## Random examples "
      ],
      "metadata": {
        "id": "W7zxjc89zwFZ"
      }
    },
    {
      "cell_type": "code",
      "source": [
        "\n",
        "randomized_text = [\n",
        "    \"The manifestation of climate change in increased extreme weather events, such as heatwaves, hurricanes, and intense rainfall, has resulted in significant economic damage and loss of human lives, underscoring the urgent need for a global commitment to reducing greenhouse gas emissions.\",\n",
        "\n",
        "\"In the ever-evolving field of artificial intelligence, the emergence of generative models like GPT-3 has set new standards for natural language processing tasks, allowing machines to produce human-like text, paving the way for more advanced chatbots and virtual assistants.\",\n",
        "\n",
        "\"The rapid expansion of renewable energy technologies, particularly solar and wind, is dramatically reshaping the global energy landscape, offering a viable alternative to fossil fuels and holding the promise of a more sustainable, carbon-neutral future.\",\n",
        "\n",
        "\"In the realm of quantum computing, the development of a stable qubit, the basic unit of quantum information, remains a significant challenge; overcoming this obstacle could unlock unprecedented computational capabilities, far surpassing those of classical computers.\",\n",
        "\n",
        "\"Amid a global pandemic, the development and distribution of effective COVID-19 vaccines demonstrated the power of scientific collaboration and innovation, offering hope for a return to normalcy but also highlighting the disparities in global health infrastructure.\",\n",
        "\n",
        "\"The international community's collective effort to achieve the Sustainable Development Goals (SDGs) set by the United Nations involves addressing some of the world's most pressing challenges, including poverty, inequality, climate change, environmental degradation, peace, and justice.\",\n",
        "\n",
        "\"In the burgeoning field of neuroscience, the exploration of the human brain's extraordinary complexity continues to yield fascinating insights into cognitive functions, memory, emotions, and the underlying causes of neurological disorders.\",\n",
        "]\n",
        "\n",
        "for data in randomized_text:\n",
        "    translation = translate(data)\n",
        "    \n",
        "\n",
        "    print(f'Original Text: {data}\\nTranslated Text: {translation}\\n{\"-\"*50}')"
      ],
      "metadata": {
        "colab": {
          "base_uri": "https://localhost:8080/"
        },
        "id": "pfH_K1j-06Ui",
        "outputId": "3c242178-55af-41e7-a48d-f715778cf24c"
      },
      "execution_count": null,
      "outputs": [
        {
          "output_type": "stream",
          "name": "stdout",
          "text": [
            "Original Text: The manifestation of climate change in increased extreme weather events, such as heatwaves, hurricanes, and intense rainfall, has resulted in significant economic damage and loss of human lives, underscoring the urgent need for a global commitment to reducing greenhouse gas emissions.\n",
            "Translated Text: <pad> Isı dalgaları, kasırgalar ve yoğun yağış gibi aşırı hava olaylarındaki iklim değişikliğinin ortaya çıkışı, sera gazı emisyonlarının azaltılmasına yönelik küresel bir taahhüt gereksiniminin altını çizerek önemli ölçüde ekonomik hasara ve insan hayatını kaybetmesine yol açmıştır.</s>\n",
            "--------------------------------------------------\n",
            "Original Text: In the ever-evolving field of artificial intelligence, the emergence of generative models like GPT-3 has set new standards for natural language processing tasks, allowing machines to produce human-like text, paving the way for more advanced chatbots and virtual assistants.\n",
            "Translated Text: <pad> Yapay zekanın sürekli gelişen alanında, GPT-3 gibi üretken modellerin ortaya çıkması doğal dil işleme görevleri için yeni standartlar belirlemiş, makinelerin insan benzeri metin üretmesine, daha gelişmiş chatbotlar ve sanal asistanlar için yol açmalarına olanak sağlamıştır.</s>\n",
            "--------------------------------------------------\n",
            "Original Text: The rapid expansion of renewable energy technologies, particularly solar and wind, is dramatically reshaping the global energy landscape, offering a viable alternative to fossil fuels and holding the promise of a more sustainable, carbon-neutral future.\n",
            "Translated Text: <pad> Yenilenebilir enerji teknolojilerinin hızlı genişlemesi, özellikle güneş ve rüzgar, küresel enerji manzarasını çarpıcı bir şekilde yeniden şekillendirerek fosil yakıtlara uygun bir alternatif sunuyor ve daha sürdürülebilir, karbonsuz bir geleceğin sözünü tutuyor.</s>\n",
            "--------------------------------------------------\n",
            "Original Text: In the realm of quantum computing, the development of a stable qubit, the basic unit of quantum information, remains a significant challenge; overcoming this obstacle could unlock unprecedented computational capabilities, far surpassing those of classical computers.\n",
            "Translated Text: <pad> Kuantum hesaplama alanında, kuantum bilginin temel birimi olan istikrarlı bir Jacobit'in gelişimi önemli bir zorluk olmaya devam ediyor; bu engeli aşmak, klasik bilgisayarlarınkinden çok daha üstün olan emsalsiz hesaplama yeteneklerinin kilidini açabilir.</s>\n",
            "--------------------------------------------------\n",
            "Original Text: Amid a global pandemic, the development and distribution of effective COVID-19 vaccines demonstrated the power of scientific collaboration and innovation, offering hope for a return to normalcy but also highlighting the disparities in global health infrastructure.\n",
            "Translated Text: <pad> Küresel bir salgın, etkili COVID-19 aşılarının geliştirilmesi ve dağıtılması bilimsel işbirliğinin ve yeniliğin gücünü ortaya koyarak, normalliğe geri dönüş umudu sunmuş, aynı zamanda küresel sağlık altyapısındaki eşitsizlikleri vurgulamıştır.</s>\n",
            "--------------------------------------------------\n",
            "Original Text: The international community's collective effort to achieve the Sustainable Development Goals (SDGs) set by the United Nations involves addressing some of the world's most pressing challenges, including poverty, inequality, climate change, environmental degradation, peace, and justice.\n",
            "Translated Text: <pad> Uluslararası toplumun, Birleşmiş Milletler tarafından belirlenen Sürdürülebilir Kalkınma Hedeflerine (SDG'lere) ulaşma amaçlı kolektif çabası, yoksulluk, eşitsizlik, iklim değişikliği, çevresel bozulma, barış ve adalet gibi dünyanın en önemli zorluklarını ele almayı da içeriyor.</s>\n",
            "--------------------------------------------------\n",
            "Original Text: In the burgeoning field of neuroscience, the exploration of the human brain's extraordinary complexity continues to yield fascinating insights into cognitive functions, memory, emotions, and the underlying causes of neurological disorders.\n",
            "Translated Text: <pad> Nörobilimin gelişmekte olan alanında, insan beyninin olağanüstü karmaşıklığının keşfi bilişsel işlevler, hafıza, duygular ve nörolojik bozuklukların altında yatan nedenler hakkında büyüleyici anlayışlar üretmeye devam etmektedir.</s>\n",
            "--------------------------------------------------\n"
          ]
        }
      ]
    },
    {
      "cell_type": "markdown",
      "source": [
        "# Google"
      ],
      "metadata": {
        "id": "3J4A2v3y1eyi"
      }
    },
    {
      "cell_type": "markdown",
      "source": [
        "## 2.1 Google Translate Instalment"
      ],
      "metadata": {
        "id": "QZKhAeEOz2Pk"
      }
    },
    {
      "cell_type": "code",
      "source": [
        "pip install googletrans==4.0.0-rc1\n"
      ],
      "metadata": {
        "colab": {
          "base_uri": "https://localhost:8080/"
        },
        "id": "VNJpeUHeugk2",
        "outputId": "664ede9b-570f-4959-9f58-de8524449a32"
      },
      "execution_count": null,
      "outputs": [
        {
          "output_type": "stream",
          "name": "stdout",
          "text": [
            "Looking in indexes: https://pypi.org/simple, https://us-python.pkg.dev/colab-wheels/public/simple/\n",
            "Requirement already satisfied: googletrans==4.0.0-rc1 in /usr/local/lib/python3.10/dist-packages (4.0.0rc1)\n",
            "Requirement already satisfied: httpx==0.13.3 in /usr/local/lib/python3.10/dist-packages (from googletrans==4.0.0-rc1) (0.13.3)\n",
            "Requirement already satisfied: certifi in /usr/local/lib/python3.10/dist-packages (from httpx==0.13.3->googletrans==4.0.0-rc1) (2022.12.7)\n",
            "Requirement already satisfied: hstspreload in /usr/local/lib/python3.10/dist-packages (from httpx==0.13.3->googletrans==4.0.0-rc1) (2023.1.1)\n",
            "Requirement already satisfied: sniffio in /usr/local/lib/python3.10/dist-packages (from httpx==0.13.3->googletrans==4.0.0-rc1) (1.3.0)\n",
            "Requirement already satisfied: chardet==3.* in /usr/local/lib/python3.10/dist-packages (from httpx==0.13.3->googletrans==4.0.0-rc1) (3.0.4)\n",
            "Requirement already satisfied: idna==2.* in /usr/local/lib/python3.10/dist-packages (from httpx==0.13.3->googletrans==4.0.0-rc1) (2.10)\n",
            "Requirement already satisfied: rfc3986<2,>=1.3 in /usr/local/lib/python3.10/dist-packages (from httpx==0.13.3->googletrans==4.0.0-rc1) (1.5.0)\n",
            "Requirement already satisfied: httpcore==0.9.* in /usr/local/lib/python3.10/dist-packages (from httpx==0.13.3->googletrans==4.0.0-rc1) (0.9.1)\n",
            "Requirement already satisfied: h11<0.10,>=0.8 in /usr/local/lib/python3.10/dist-packages (from httpcore==0.9.*->httpx==0.13.3->googletrans==4.0.0-rc1) (0.9.0)\n",
            "Requirement already satisfied: h2==3.* in /usr/local/lib/python3.10/dist-packages (from httpcore==0.9.*->httpx==0.13.3->googletrans==4.0.0-rc1) (3.2.0)\n",
            "Requirement already satisfied: hyperframe<6,>=5.2.0 in /usr/local/lib/python3.10/dist-packages (from h2==3.*->httpcore==0.9.*->httpx==0.13.3->googletrans==4.0.0-rc1) (5.2.0)\n",
            "Requirement already satisfied: hpack<4,>=3.0 in /usr/local/lib/python3.10/dist-packages (from h2==3.*->httpcore==0.9.*->httpx==0.13.3->googletrans==4.0.0-rc1) (3.0.0)\n"
          ]
        }
      ]
    },
    {
      "cell_type": "code",
      "source": [
        "from googletrans import Translator\n",
        "\n",
        "translator = Translator()\n",
        "\n",
        "translation = translator.translate('hello world', dest='tr')\n",
        "print(translation.text)\n"
      ],
      "metadata": {
        "colab": {
          "base_uri": "https://localhost:8080/"
        },
        "id": "LxYYkeUpvLUu",
        "outputId": "503538ba-94f3-4ab8-e438-2454542dfc64"
      },
      "execution_count": null,
      "outputs": [
        {
          "output_type": "stream",
          "name": "stdout",
          "text": [
            "Selam Dünya\n"
          ]
        }
      ]
    },
    {
      "cell_type": "code",
      "source": [
        "google_list = []\n",
        "\n",
        "for data in finansal_veriler:\n",
        "  translation_google = translator.translate(data,dest = 'tr')\n",
        "  google_list.append(translation_google)\n",
        "  print(f'Original Text: {data}\\nTranslated Text: {translation_google}\\n{\"-\"*50}')\n"
      ],
      "metadata": {
        "colab": {
          "base_uri": "https://localhost:8080/"
        },
        "id": "qcOpu7mMvs7V",
        "outputId": "d9ed5351-d0ea-4a33-927e-43586d6ad107"
      },
      "execution_count": null,
      "outputs": [
        {
          "output_type": "stream",
          "name": "stdout",
          "text": [
            "Original Text: The company's quarterly revenue exceeded expectations due to the successful launch of its new product.\n",
            "Translated Text: Translated(src=en, dest=tr, text=Şirketin üç aylık geliri, yeni ürününün başarılı bir şekilde lansmanı nedeniyle beklentileri aştı., pronunciation=None, extra_data=\"{'confiden...\")\n",
            "--------------------------------------------------\n",
            "Original Text: Inflation has risen rapidly in the past few months, causing concern among investors.\n",
            "Translated Text: Translated(src=en, dest=tr, text=Enflasyon son birkaç ay içinde hızla arttı ve yatırımcılar arasında endişe yarattı., pronunciation=None, extra_data=\"{'confiden...\")\n",
            "--------------------------------------------------\n",
            "Original Text: The central bank raised interest rates in an attempt to curb the rising inflation.\n",
            "Translated Text: Translated(src=en, dest=tr, text=Merkez bankası, artan enflasyonu engellemek için faiz oranlarını artırdı., pronunciation=None, extra_data=\"{'confiden...\")\n",
            "--------------------------------------------------\n",
            "Original Text: According to the financial statements, the company's operating margin has improved significantly.\n",
            "Translated Text: Translated(src=en, dest=tr, text=Finansal tablolara göre, şirketin işletme marjı önemli ölçüde iyileşti., pronunciation=None, extra_data=\"{'confiden...\")\n",
            "--------------------------------------------------\n",
            "Original Text: Despite the economic downturn, the tech sector continues to perform well in the stock market.\n",
            "Translated Text: Translated(src=en, dest=tr, text=Ekonomik gerilemeye rağmen, teknoloji sektörü borsada iyi performans göstermeye devam ediyor., pronunciation=None, extra_data=\"{'confiden...\")\n",
            "--------------------------------------------------\n",
            "Original Text: The fluctuating exchange rates have a significant impact on the multinational corporation's profits.\n",
            "Translated Text: Translated(src=en, dest=tr, text=Dalgalanan döviz kurlarının çokuluslu şirketin kârları üzerinde önemli bir etkisi vardır., pronunciation=None, extra_data=\"{'confiden...\")\n",
            "--------------------------------------------------\n",
            "Original Text: The board of directors approved a share buyback program to return capital to shareholders.\n",
            "Translated Text: Translated(src=en, dest=tr, text=Yönetim Kurulu, sermayeyi hissedarlara iade etmek için bir hisse geri alım programı onayladı., pronunciation=None, extra_data=\"{'confiden...\")\n",
            "--------------------------------------------------\n",
            "Original Text: Economists warn of potential risks associated with the country's rising public debt.\n",
            "Translated Text: Translated(src=en, dest=tr, text=Ekonomistler, ülkenin artan kamu borcuyla ilişkili potansiyel riskleri uyarıyorlar., pronunciation=None, extra_data=\"{'confiden...\")\n",
            "--------------------------------------------------\n",
            "Original Text: Due to the financial crisis, the company has been forced to declare bankruptcy.\n",
            "Translated Text: Translated(src=en, dest=tr, text=Mali kriz nedeniyle şirket iflas ilan etmek zorunda kaldı., pronunciation=None, extra_data=\"{'confiden...\")\n",
            "--------------------------------------------------\n",
            "Original Text: Investors are optimistic about the upcoming merger between the two companies.\n",
            "Translated Text: Translated(src=en, dest=tr, text=Yatırımcılar iki şirket arasındaki yaklaşan birleşme konusunda iyimser., pronunciation=None, extra_data=\"{'confiden...\")\n",
            "--------------------------------------------------\n"
          ]
        }
      ]
    },
    {
      "cell_type": "markdown",
      "source": [
        "# Comparison between google translate and helsinki translate\n",
        "\n",
        "With 10 different financial sentences."
      ],
      "metadata": {
        "id": "w1EUwSPszRoG"
      }
    },
    {
      "cell_type": "code",
      "source": [
        "for text1,text2,text3 in zip(google_list,helsinki_list,original_list):\n",
        "  print(\"Original translate:\",text3)\n",
        "  print(\"Google translate:\",text1)\n",
        "  print(\"Helsinki translate:\",text2)\n",
        "  print(\"---\")"
      ],
      "metadata": {
        "colab": {
          "base_uri": "https://localhost:8080/"
        },
        "id": "P7gU82Omwx_r",
        "outputId": "f1b8d7ac-30fa-4408-e618-6b1be6e14878"
      },
      "execution_count": null,
      "outputs": [
        {
          "output_type": "stream",
          "name": "stdout",
          "text": [
            "Original translate: The company's quarterly revenue exceeded expectations due to the successful launch of its new product.\n",
            "Google translate: Translated(src=en, dest=tr, text=Şirketin üç aylık geliri, yeni ürününün başarılı bir şekilde lansmanı nedeniyle beklentileri aştı., pronunciation=None, extra_data=\"{'confiden...\")\n",
            "Helsinki translate: <pad> Şirketin üç aylık geliri, yeni ürününün başarılı bir şekilde piyasaya sürülmesi nedeniyle beklentileri aştı.</s>\n",
            "---\n",
            "Original translate: Inflation has risen rapidly in the past few months, causing concern among investors.\n",
            "Google translate: Translated(src=en, dest=tr, text=Enflasyon son birkaç ay içinde hızla arttı ve yatırımcılar arasında endişe yarattı., pronunciation=None, extra_data=\"{'confiden...\")\n",
            "Helsinki translate: <pad> Son birkaç ayda enflasyon hızla artarak yatırımcılar arasında endişeye yol açtı.</s>\n",
            "---\n",
            "Original translate: The central bank raised interest rates in an attempt to curb the rising inflation.\n",
            "Google translate: Translated(src=en, dest=tr, text=Merkez bankası, artan enflasyonu engellemek için faiz oranlarını artırdı., pronunciation=None, extra_data=\"{'confiden...\")\n",
            "Helsinki translate: <pad> Merkez bankası yükselen enflasyonu önleme girişiminde faiz oranlarını artırdı.</s>\n",
            "---\n",
            "Original translate: According to the financial statements, the company's operating margin has improved significantly.\n",
            "Google translate: Translated(src=en, dest=tr, text=Finansal tablolara göre, şirketin işletme marjı önemli ölçüde iyileşti., pronunciation=None, extra_data=\"{'confiden...\")\n",
            "Helsinki translate: <pad> Finansal açıklamalara göre şirketin faaliyet marjı önemli ölçüde gelişmiştir.</s>\n",
            "---\n",
            "Original translate: Despite the economic downturn, the tech sector continues to perform well in the stock market.\n",
            "Google translate: Translated(src=en, dest=tr, text=Ekonomik gerilemeye rağmen, teknoloji sektörü borsada iyi performans göstermeye devam ediyor., pronunciation=None, extra_data=\"{'confiden...\")\n",
            "Helsinki translate: <pad> Ekonomik düşüşe rağmen teknoloji sektörü borsada iyi performans göstermeye devam ediyor.</s>\n",
            "---\n",
            "Original translate: The fluctuating exchange rates have a significant impact on the multinational corporation's profits.\n",
            "Google translate: Translated(src=en, dest=tr, text=Dalgalanan döviz kurlarının çokuluslu şirketin kârları üzerinde önemli bir etkisi vardır., pronunciation=None, extra_data=\"{'confiden...\")\n",
            "Helsinki translate: <pad> Değişken döviz oranlarının çok uluslu şirketin kârı üzerinde önemli bir etkisi var.</s>\n",
            "---\n",
            "Original translate: The board of directors approved a share buyback program to return capital to shareholders.\n",
            "Google translate: Translated(src=en, dest=tr, text=Yönetim Kurulu, sermayeyi hissedarlara iade etmek için bir hisse geri alım programı onayladı., pronunciation=None, extra_data=\"{'confiden...\")\n",
            "Helsinki translate: <pad> Yönetim kurulu sermayeyi hissedarlara iade etmek için bir hisse satın alma programını onayladı.</s>\n",
            "---\n",
            "Original translate: Economists warn of potential risks associated with the country's rising public debt.\n",
            "Google translate: Translated(src=en, dest=tr, text=Ekonomistler, ülkenin artan kamu borcuyla ilişkili potansiyel riskleri uyarıyorlar., pronunciation=None, extra_data=\"{'confiden...\")\n",
            "Helsinki translate: <pad> Ekonomistler, ülkenin artan kamu borcuyla ilişkili potansiyel riskler konusunda uyarıyorlar.</s>\n",
            "---\n",
            "Original translate: Due to the financial crisis, the company has been forced to declare bankruptcy.\n",
            "Google translate: Translated(src=en, dest=tr, text=Mali kriz nedeniyle şirket iflas ilan etmek zorunda kaldı., pronunciation=None, extra_data=\"{'confiden...\")\n",
            "Helsinki translate: <pad> Finansal kriz nedeniyle şirket iflası ilan etmek zorunda kaldı.</s>\n",
            "---\n",
            "Original translate: Investors are optimistic about the upcoming merger between the two companies.\n",
            "Google translate: Translated(src=en, dest=tr, text=Yatırımcılar iki şirket arasındaki yaklaşan birleşme konusunda iyimser., pronunciation=None, extra_data=\"{'confiden...\")\n",
            "Helsinki translate: <pad> Yatırımcılar iki şirket arasındaki birleşme konusunda iyimserler.</s>\n",
            "---\n"
          ]
        }
      ]
    },
    {
      "cell_type": "markdown",
      "source": [
        "Note: Main question is whether should we directly use input to models or seperate every sentences to feed our model ? "
      ],
      "metadata": {
        "id": "7IcOGhFcNz-T"
      }
    },
    {
      "cell_type": "markdown",
      "source": [
        "### Articles' abstract comparison"
      ],
      "metadata": {
        "id": "3IC-3Y0SM_Vd"
      }
    },
    {
      "cell_type": "markdown",
      "source": [
        "**1st Article**"
      ],
      "metadata": {
        "id": "2syJE6lMUTiB"
      }
    },
    {
      "cell_type": "code",
      "source": [
        "articles_list_en = [\"This article inquires as to whether Turkey can be among the ten largest economies of the world in 2023. According to the theory of growth, saving and investment, human capital, research and development efforts and the resulting technological development are the factors that cause economies to grow. The saving and investment ratios of Turkey have been declining since 1988. The average level of education of the labor force and the quality of education are both improving, but according to the predictions in this article, in 2023, the education level of the labor force will continue to be below most of Turkey’s rivals. Research and development efforts are also improving, but considering the other negative developments, it is concluded that the progress in research and development will be insufficient to take Turkey into the group of top ten countries in 2023.\"]"
      ],
      "metadata": {
        "id": "to5mLVT5ONXZ"
      },
      "execution_count": null,
      "outputs": []
    },
    {
      "cell_type": "code",
      "source": [
        "articles_list_tr = [\"Bu makalede Türkiye’nin 2023 yılında dünyanın on büyük ekonomisinden biri olup olamayacağı araştırılmıştır. Büyüme teorisine göre büyümenin belirleyenleri tasarruf ve yatırımlar, beşerî sermaye ve araştırma-geliştirme çabalarının sağladığı teknolojik gelişmedir. Türkiye’nin tasarruf ve yatırım oranları 1988’den beri azalmaktadır. İşgücünün ortalama eğitim seviyesi ve kalitesi giderek yükselmekte ve Türkiye’nin rakipleriyle arasındaki fark kapanmaktadır, ama bu makaledeki tahmine göre, 2023 yılında Türkiye işgücünün eğitim seviyesi ve kalitesi rakiplerinin çoğunun gerisinde kalmaya devam edecektir. Araştırma geliştirme çabaları da hızla artmaktadır, ama diğer olumsuz gelişmeler dikkate alındığında, araştırma-geliştirme çabalarındaki gelişmenin, 2023 yılında, Türkiye’yi ilk on ülke arasına sokmaya yetmeyeceği sonucuna varılmıştır. \",\n",
        "                    ]"
      ],
      "metadata": {
        "id": "oreVH-t4NK24"
      },
      "execution_count": null,
      "outputs": []
    },
    {
      "cell_type": "code",
      "source": [
        "for data in articles_list_en:\n",
        "\n",
        "    translation = translate(data)\n",
        "    translation_google = translator.translate(data,dest = 'tr')\n",
        "    print(f'Original Text: {data}\\n ')\n",
        "    print(f'Original Translation:{articles_list_tr[0]}\\n{\"-\"*50}')\n",
        "    print(f'Google Translated Text: {translation_google}\\n{\"-\"*50}')\n",
        "    print(f'\\n Helsinki Translated Text: {translation}\\n{\"-\"*50}')"
      ],
      "metadata": {
        "colab": {
          "base_uri": "https://localhost:8080/"
        },
        "id": "0loPHu8EPYE5",
        "outputId": "000fa623-e723-41af-d93b-1c90784dd0ef"
      },
      "execution_count": null,
      "outputs": [
        {
          "output_type": "stream",
          "name": "stdout",
          "text": [
            "Original Text: This article inquires as to whether Turkey can be among the ten largest economies of the world in 2023. According to the theory of growth, saving and investment, human capital, research and development efforts and the resulting technological development are the factors that cause economies to grow. The saving and investment ratios of Turkey have been declining since 1988. The average level of education of the labor force and the quality of education are both improving, but according to the predictions in this article, in 2023, the education level of the labor force will continue to be below most of Turkey’s rivals. Research and development efforts are also improving, but considering the other negative developments, it is concluded that the progress in research and development will be insufficient to take Turkey into the group of top ten countries in 2023.\n",
            " \n",
            "Original Translation:Bu makalede Türkiye’nin 2023 yılında dünyanın on büyük ekonomisinden biri olup olamayacağı araştırılmıştır. Büyüme teorisine göre büyümenin belirleyenleri tasarruf ve yatırımlar, beşerî sermaye ve araştırma-geliştirme çabalarının sağladığı teknolojik gelişmedir. Türkiye’nin tasarruf ve yatırım oranları 1988’den beri azalmaktadır. İşgücünün ortalama eğitim seviyesi ve kalitesi giderek yükselmekte ve Türkiye’nin rakipleriyle arasındaki fark kapanmaktadır, ama bu makaledeki tahmine göre, 2023 yılında Türkiye işgücünün eğitim seviyesi ve kalitesi rakiplerinin çoğunun gerisinde kalmaya devam edecektir. Araştırma geliştirme çabaları da hızla artmaktadır, ama diğer olumsuz gelişmeler dikkate alındığında, araştırma-geliştirme çabalarındaki gelişmenin, 2023 yılında, Türkiye’yi ilk on ülke arasına sokmaya yetmeyeceği sonucuna varılmıştır. \n",
            "--------------------------------------------------\n",
            "Google Translated Text: Translated(src=en, dest=tr, text=Bu makale, Türkiye'nin 2023 yılında dünyanın en büyük on ekonomisi arasında olup olmayacağını sorgulamaktadır. Büyüme, tasarruf ve yatırım teorisine göre, insan sermayesi, araştırma ve geliştirme çabaları ve ortaya çıkan teknolojik gelişme, ekonomilerin ekonomilerinbüyümek.Türkiye'nin tasarruf ve yatırım oranları 1988'den beri azalmaktadır. İşgücünün ortalama eğitim düzeyi ve eğitimin kalitesi iyileşmektedir, ancak bu makaledeki tahminlere göre, 2023'te işgücü eğitim seviyesiTürkiye'nin rakiplerinin çoğunun altında olmaya devam edecek.Araştırma ve geliştirme çabaları da gelişmektedir, ancak diğer olumsuz gelişmeler göz önüne alındığında, araştırma ve geliştirmedeki ilerlemenin Türkiye'yi 2023'te ilk on ülke grubuna götürmek için yetersiz olacağı sonucuna varılmıştır., pronunciation=None, extra_data=\"{'confiden...\")\n",
            "--------------------------------------------------\n",
            "\n",
            " Helsinki Translated Text: <pad> Bu makale, Türkiye'nin 2023 yılında dünyanın en büyük on ekonomisi arasında olup olamayacağını araştırmaktadır. Büyüme, tasarruf ve yatırım teorisine göre, insan sermayesi, araştırma ve geliştirme çabaları ile sonuçlanan teknolojik kalkınma ekonomilerin büyümesine yol açan faktörlerdir. 1988 yılından bu yana Türkiye'nin tasarruf ve yatırım oranlarının azalması Türkiye'nin ortalama eğitim düzeyinin hem gelişmekte olduğu, ancak bu maddedeki tahminlere göre, 2023 yılında iş gücünün eğitim seviyesinin Türkiye'nin en alt düzeyine inisiyatifa edildiği, ancak Türkiye'nin diğer gelişmelerinin de en düşük seviyede olacağı sonucuna varılmıştır.</s>\n",
            "--------------------------------------------------\n"
          ]
        }
      ]
    },
    {
      "cell_type": "markdown",
      "source": [
        "**2nd Article**"
      ],
      "metadata": {
        "id": "TBTpQ3IOUfma"
      }
    },
    {
      "cell_type": "code",
      "source": [
        "article_list_en = [\"Environmental, social and governance (ESG) performance and their relationship with economic performance of the companies have been a subject of debate. ESG is useful for stakeholders in making decisions and evaluations about companies’ economic performance. Building on the stakeholder theory, this paper seeks to find the relationship between ESG performance and economic performance of firms. In this study, ESG data from the UK companies are used which covers the years 2011-2015. Correlation and regression analysis have been conducted in order to test the relationship between ESG and economic performance. The results showed that social and corporate governance performance of the UK companies have a positive and significant relationship with the economic performance. However, environmental performance failed to show a significant relationship with the economic performance. In addition, companies need to improve their environmental performance and find ways to increase the significance of environmental performance on the economic performance for a sustainable growth. The findings are expected to provide a road-map for companies in order to recognize and achieve the benefits of the ESG. The proposed relationship between the ESG and economic performance can contribute to the stakeholders’ decision making. This study also provides valuable information for developed countries by discussing the findings on the grounds of the UK\"]"
      ],
      "metadata": {
        "id": "Xwjz5vqzUi_9"
      },
      "execution_count": null,
      "outputs": []
    },
    {
      "cell_type": "code",
      "source": [
        "article_list_tr = [\"Çevresel, sosyal ve yönetimsel (ESG) performansın ekonomik performans üzerindeki etkileri her zaman tartışma konusu olmuştur. ESG performansı firma paydaşlarının firmaların ekonomik performanslarını değerlendirmek için kullandıkları bir araçtır. Paydaşlar teorisi göz önünde bulundurularak, bu alışma ESG performansı ve ekonomik performans ilişkisini incelemektedir. Çalışma İnigilterede faaliyet gösteren firmaları örneklem olarak almıştır. Çalışma, 2011-2015 yılları arasındaki performans değerlerini kapsamaktadır. Korelasyon ve regresyon analizleri ile ESG ve ekonomik performans ilişkisi analiz edilmiştir. Bulgulara göre sosyal ve yönetimsel performans pozitif ve anlamlı bir şekilde ekonomik performansı etkilemektedir. Ancak, çeveresel performans anlamlı bir şekilde ekonomik performansı etkilememektedir. Bu çalışma, yatırımcılara ve yöneticilere, ESG performans değerlerinin önemini kanıtlamaktadır\"]"
      ],
      "metadata": {
        "id": "ps96GePPUyOT"
      },
      "execution_count": null,
      "outputs": []
    },
    {
      "cell_type": "code",
      "source": [
        "for data in article_list_en:\n",
        "\n",
        "    translation = translate(data)\n",
        "    translation_google = translator.translate(data,dest = 'tr')\n",
        "    print(f'Original Text: {data}\\n ')\n",
        "    print(f'Original Translation:{article_list_tr[0]}\\n{\"-\"*50}')\n",
        "    print(f'Google Translated Text: {translation_google}\\n{\"-\"*50}')\n",
        "    print(f'\\n Helsinki Translated Text: {translation}\\n{\"-\"*50}')"
      ],
      "metadata": {
        "colab": {
          "base_uri": "https://localhost:8080/"
        },
        "id": "YH_jDMr3W5uV",
        "outputId": "e3a8926e-dc82-4b8c-8865-8951ce22a96b"
      },
      "execution_count": null,
      "outputs": [
        {
          "output_type": "stream",
          "name": "stdout",
          "text": [
            "Original Text: Environmental, social and governance (ESG) performance and their relationship with economic performance of the companies have been a subject of debate. ESG is useful for stakeholders in making decisions and evaluations about companies’ economic performance. Building on the stakeholder theory, this paper seeks to find the relationship between ESG performance and economic performance of firms. In this study, ESG data from the UK companies are used which covers the years 2011-2015. Correlation and regression analysis have been conducted in order to test the relationship between ESG and economic performance. The results showed that social and corporate governance performance of the UK companies have a positive and significant relationship with the economic performance. However, environmental performance failed to show a significant relationship with the economic performance. In addition, companies need to improve their environmental performance and find ways to increase the significance of environmental performance on the economic performance for a sustainable growth. The findings are expected to provide a road-map for companies in order to recognize and achieve the benefits of the ESG. The proposed relationship between the ESG and economic performance can contribute to the stakeholders’ decision making. This study also provides valuable information for developed countries by discussing the findings on the grounds of the UK\n",
            " \n",
            "Original Translation:Çevresel, sosyal ve yönetimsel (ESG) performansın ekonomik performans üzerindeki etkileri her zaman tartışma konusu olmuştur. ESG performansı firma paydaşlarının firmaların ekonomik performanslarını değerlendirmek için kullandıkları bir araçtır. Paydaşlar teorisi göz önünde bulundurularak, bu alışma ESG performansı ve ekonomik performans ilişkisini incelemektedir. Çalışma İnigilterede faaliyet gösteren firmaları örneklem olarak almıştır. Çalışma, 2011-2015 yılları arasındaki performans değerlerini kapsamaktadır. Korelasyon ve regresyon analizleri ile ESG ve ekonomik performans ilişkisi analiz edilmiştir. Bulgulara göre sosyal ve yönetimsel performans pozitif ve anlamlı bir şekilde ekonomik performansı etkilemektedir. Ancak, çeveresel performans anlamlı bir şekilde ekonomik performansı etkilememektedir. Bu çalışma, yatırımcılara ve yöneticilere, ESG performans değerlerinin önemini kanıtlamaktadır\n",
            "--------------------------------------------------\n",
            "Google Translated Text: Translated(src=en, dest=tr, text=Çevresel, sosyal ve yönetişim (ESG) performansı ve şirketlerin ekonomik performansı ile ilişkileri bir tartışma konusu olmuştur.ESG, paydaşların şirketlerin ekonomik performansı hakkında kararlar ve değerlendirmeler için yararlıdır.Paydaş teorisine dayanan bu makale, ESG performansı ile firmaların ekonomik performansı arasındaki ilişkiyi bulmayı amaçlamaktadır.Bu çalışmada, 2011-2015 yıllarını kapsayan İngiltere şirketlerinden ESG verileri kullanılmaktadır.ESG ve ekonomik performans arasındaki ilişkiyi test etmek için korelasyon ve regresyon analizi yapılmıştır.Sonuçlar, İngiltere şirketlerinin sosyal ve kurumsal yönetişim performansının ekonomik performansla olumlu ve önemli bir ilişkiye sahip olduğunu göstermiştir.Ancak, çevresel performans ekonomik performansla önemli bir ilişki gösterememiştir.Buna ek olarak, şirketlerin çevresel performanslarını iyileştirmeleri ve sürdürülebilir bir büyüme için ekonomik performans üzerindeki çevresel performansın önemini artırmanın yollarını bulmaları gerekmektedir.Bulguların, ESG'nin faydalarını tanımak ve elde etmek için şirketler için bir yol haritası sağlaması bekleniyor.ESG ve ekonomik performans arasındaki önerilen ilişki, paydaşların karar vermesine katkıda bulunabilir.Bu çalışma aynı zamanda İngiltere'nin gerekçesiyle bulguları tartışarak gelişmiş ülkeler için değerli bilgiler sağlar., pronunciation=None, extra_data=\"{'confiden...\")\n",
            "--------------------------------------------------\n",
            "\n",
            " Helsinki Translated Text: <pad> Çevresel, sosyal ve yönetimsel (ESG) performans ve şirketlerin ekonomik performansı ile ilişkileri tartışma konusu olmuştur. ESG, şirketlerin ekonomik performansıyla ilgili karar ve değerlendirmelerde paydaşlar için yararlıdır. Paydaş teorisi üzerine yapılan bu gazete, ESG performansı ile firmaların ekonomik performansı arasındaki ilişkiyi bulmak ister. Bu çalışmada, İngiltere firmalarından alınan ESG verileri 2011-2015 yıllarını kapsayan bir tartışma konusu olmuştur. EG ve gerileme analizi, EG arasındaki ilişki ve ekonomik performansları test etmek amacıyla gerçekleştirilmiştir. EG arasındaki ilişki ve sosyal performansları test etmek için de gösterilmiştir. ESG’ler arasındaki ekonomik performanslarını ve ekonomik performanslarını artırmak için, ekonomik performanslarını ve ekonomik performanslarını artırmak için önerilen ekonomik performanslarını artırabilir. Ancak, ESG’lerin ve ekonomik performanslarını artırabilir. Ancak EG’lerin olumlu performanslarını artırabilir. Ancak, EG’nin sağlanması, EG – EG – EG – EG – EG – EG – EG – EG – EG – EG – EG – EG – EG – EG’lerin olumlu performansını artırıcılı performanslarını artırıcılG’nin yanı sıra, EG’nin yanı sıra, EG’nin yanı sıra, EG’nin olumlu performansını da gösterilmesini sağlayabilir.</s>\n",
            "--------------------------------------------------\n"
          ]
        }
      ]
    },
    {
      "cell_type": "markdown",
      "source": [
        "**3th article**"
      ],
      "metadata": {
        "id": "SIb9_wlyeifo"
      }
    },
    {
      "cell_type": "code",
      "source": [
        "article_list_tr =[ \"Büyümeyi amaçlayan bir firmanın en önemli gereksinimi ihtiyaç duyduğu fon kaynağını karşılamaktır. Firmalar için iki temel fon kaynağı bulunmaktadır. Birincisi, borçla finansman diğeri ise özsermaye ile finansmandır. Borçla finansmanın iki avantajı vardır. Birincisi, faiz giderlerinin vergi matrahından indirilmesi söz konusu olurken bunun tersine özsermaye ile finansmanda kâr paylarının vergi indirimi söz konusu değildir. İkincisi, borçla finansmanda firma açısından büyüme başarılı bir şekilde gerçekleştiğinde mevcut ortak sayısında bir değişme olmayacağından ortaklar daha fazla kâr payı almaya hak kazanacaklardır. Bu çalışmanın amacı BIST Turizm Endeksinde işlem gören firmaların finansal kaynakları ve firma büyümesi arasındaki ilişkinin belirlenmesidir. İlk olarak, tanımlayıcı istatistikler hesaplanmıştır. İkinci olarak, tam logaritmik bir fonksiyona bir regresyon analizi uygulanmıştır. Son olarak, elde edilen sonuçlar yorumlanmıştır. Sonuç olarak, finansman kaynakları hem borç hem de özsemaye BIST Turizm firmalarının büyümesini pozitif etkilemektedir.\"]"
      ],
      "metadata": {
        "id": "K02sh1Deek40"
      },
      "execution_count": null,
      "outputs": []
    },
    {
      "cell_type": "code",
      "source": [
        "article_list_en = [\"The most important requirement of a firm that aims to grow is to correspond the funding source it needs. There are two main resources of funding for firms. The first is financing by debt and the other is financing by equity. Debt financing has two advantages. Firstly, while interest expenses are deducted from the tax base, on the contrary, there is no tax deduction for dividends in equity financing. Second, when the growth in debt is realized successfully for the firm, the shareholders will be entitled to receive more dividends since there will be no change in the number of shareholders. This paper aim is to determination of relationship between financial resources and firm growth for treaded in BIST Tourism Index. To begin with, we were calculated descriptive statistics and correlation matrix. Secondly, we were applied a regression analysis for a full logarithmic function. Finally, the results obtained were interpreted. As a result, financial resources both debt and equity were positively effect for BIST Tourism Firms.\"]"
      ],
      "metadata": {
        "id": "SiriaCCde2dW"
      },
      "execution_count": null,
      "outputs": []
    },
    {
      "cell_type": "code",
      "source": [
        "for data in article_list_en:\n",
        "\n",
        "    translation = translate(data)\n",
        "    translation_google = translator.translate(data,dest = 'tr')\n",
        "    print(f'Original Text: {data}\\n ')\n",
        "    print(f'Original Translation:{article_list_tr[0]}\\n{\"-\"*50}')\n",
        "    print(f'Google Translated Text: {translation_google}\\n{\"-\"*50}')\n",
        "    print(f'\\n Helsinki Translated Text: {translation}\\n{\"-\"*50}')"
      ],
      "metadata": {
        "colab": {
          "base_uri": "https://localhost:8080/"
        },
        "id": "Qc2AfX3Ee_xd",
        "outputId": "0804fe7d-4a54-4d2d-8312-2a8739e470d9"
      },
      "execution_count": null,
      "outputs": [
        {
          "output_type": "stream",
          "name": "stdout",
          "text": [
            "Original Text: The most important requirement of a firm that aims to grow is to correspond the funding source it needs. There are two main resources of funding for firms. The first is financing by debt and the other is financing by equity. Debt financing has two advantages. Firstly, while interest expenses are deducted from the tax base, on the contrary, there is no tax deduction for dividends in equity financing. Second, when the growth in debt is realized successfully for the firm, the shareholders will be entitled to receive more dividends since there will be no change in the number of shareholders. This paper aim is to determination of relationship between financial resources and firm growth for treaded in BIST Tourism Index. To begin with, we were calculated descriptive statistics and correlation matrix. Secondly, we were applied a regression analysis for a full logarithmic function. Finally, the results obtained were interpreted. As a result, financial resources both debt and equity were positively effect for BIST Tourism Firms.\n",
            " \n",
            "Original Translation:Büyümeyi amaçlayan bir firmanın en önemli gereksinimi ihtiyaç duyduğu fon kaynağını karşılamaktır. Firmalar için iki temel fon kaynağı bulunmaktadır. Birincisi, borçla finansman diğeri ise özsermaye ile finansmandır. Borçla finansmanın iki avantajı vardır. Birincisi, faiz giderlerinin vergi matrahından indirilmesi söz konusu olurken bunun tersine özsermaye ile finansmanda kâr paylarının vergi indirimi söz konusu değildir. İkincisi, borçla finansmanda firma açısından büyüme başarılı bir şekilde gerçekleştiğinde mevcut ortak sayısında bir değişme olmayacağından ortaklar daha fazla kâr payı almaya hak kazanacaklardır. Bu çalışmanın amacı BIST Turizm Endeksinde işlem gören firmaların finansal kaynakları ve firma büyümesi arasındaki ilişkinin belirlenmesidir. İlk olarak, tanımlayıcı istatistikler hesaplanmıştır. İkinci olarak, tam logaritmik bir fonksiyona bir regresyon analizi uygulanmıştır. Son olarak, elde edilen sonuçlar yorumlanmıştır. Sonuç olarak, finansman kaynakları hem borç hem de özsemaye BIST Turizm firmalarının büyümesini pozitif etkilemektedir.\n",
            "--------------------------------------------------\n",
            "Google Translated Text: Translated(src=en, dest=tr, text=Büyümeyi amaçlayan bir firmanın en önemli gereksinimi, ihtiyaç duyduğu finansman kaynağına karşılık gelmektir.Firmalar için iki ana finansman kaynağı vardır.Birincisi borçla finansman, diğeri özkaynak tarafından finansmandır.Borç finansmanının iki avantajı vardır.Birincisi, faiz giderleri vergi tabanından düşülürken, aksine, özsermaye finansmanındaki temettüler için vergi indirimi yoktur.İkincisi, borçtaki büyüme firma için başarılı bir şekilde gerçekleştirildiğinde, hissedarlar daha fazla temettü alma hakkına sahip olacaktır, çünkü hissedar sayısında herhangi bir değişiklik olmayacaktır.Bu makale amacı, finansal kaynaklar ve Bist Turizm Endeksi'nde işlenecek firma büyümesi arasındaki ilişkinin belirlenmesidir.Başlangıç olarak, tanımlayıcı istatistikler ve korelasyon matrisi hesaplandık.İkincisi, tam logaritmik bir fonksiyon için bir regresyon analizi uygulandık.Son olarak, elde edilen sonuçlar yorumlandı.Sonuç olarak, finansal kaynaklar hem borç hem de özkaynaklar bist turizm firmaları için olumlu bir şekilde etkilenmiştir., pronunciation=None, extra_data=\"{'confiden...\")\n",
            "--------------------------------------------------\n",
            "\n",
            " Helsinki Translated Text: <pad> Büyümeyi amaçlayan bir firmanın en önemli şartı, ihtiyacı olan finansman kaynağına karşılık gelmektir. Firmalar için iki ana finansman kaynağı vardır. Birincisi borçla finansman, diğeri de özkaynak ile finansmandır. Borç finansmanının iki avantajı vardır. İlk olarak, faiz giderleri vergi tabanından düşülürken, sermaye finansmanında pay indirimi yoktur. İkinci olarak, borçlanmanın firma için başarılı bir şekilde gerçekleştirilmesi durumunda, hissedarlar daha fazla pay alma hakkına sahip olacaktır. Bu payda değişiklik olmayacağı için, mali kaynakların belirlenmesi için, mali kaynakların belirlenmesi ve nihai olarak da mali kaynakların belirlenmesi amacıyla, her iki avantaj sağlanmaktadır.</s>\n",
            "--------------------------------------------------\n"
          ]
        }
      ]
    },
    {
      "cell_type": "markdown",
      "source": [
        "#### 3. Article Note:\n",
        "In this article, original translation and helskinki translation differ. Helskinki can not read end of the text and some sentimental meanings changes a bit. **Therefore, we may split all the sentences and feed them to model**. "
      ],
      "metadata": {
        "id": "A79_m6XBiFgn"
      }
    },
    {
      "cell_type": "code",
      "source": [
        " print(f'Original Translation:{article_list_tr[0]}\\n{\"-\"*50}')\n",
        " print(f'\\n Helsinki Translated Text: {translation}\\n{\"-\"*50}')"
      ],
      "metadata": {
        "colab": {
          "base_uri": "https://localhost:8080/"
        },
        "id": "fPd4RuHGggee",
        "outputId": "f6970b18-d663-4f60-9b98-2a8eb7e85b8d"
      },
      "execution_count": null,
      "outputs": [
        {
          "output_type": "stream",
          "name": "stdout",
          "text": [
            "Original Translation:Büyümeyi amaçlayan bir firmanın en önemli gereksinimi ihtiyaç duyduğu fon kaynağını karşılamaktır. Firmalar için iki temel fon kaynağı bulunmaktadır. Birincisi, borçla finansman diğeri ise özsermaye ile finansmandır. Borçla finansmanın iki avantajı vardır. Birincisi, faiz giderlerinin vergi matrahından indirilmesi söz konusu olurken bunun tersine özsermaye ile finansmanda kâr paylarının vergi indirimi söz konusu değildir. İkincisi, borçla finansmanda firma açısından büyüme başarılı bir şekilde gerçekleştiğinde mevcut ortak sayısında bir değişme olmayacağından ortaklar daha fazla kâr payı almaya hak kazanacaklardır. Bu çalışmanın amacı BIST Turizm Endeksinde işlem gören firmaların finansal kaynakları ve firma büyümesi arasındaki ilişkinin belirlenmesidir. İlk olarak, tanımlayıcı istatistikler hesaplanmıştır. İkinci olarak, tam logaritmik bir fonksiyona bir regresyon analizi uygulanmıştır. Son olarak, elde edilen sonuçlar yorumlanmıştır. Sonuç olarak, finansman kaynakları hem borç hem de özsemaye BIST Turizm firmalarının büyümesini pozitif etkilemektedir.\n",
            "--------------------------------------------------\n",
            "\n",
            " Helsinki Translated Text: <pad> Büyümeyi amaçlayan bir firmanın en önemli şartı, ihtiyacı olan finansman kaynağına karşılık gelmektir. Firmalar için iki ana finansman kaynağı vardır. Birincisi borçla finansman, diğeri de özkaynak ile finansmandır. Borç finansmanının iki avantajı vardır. İlk olarak, faiz giderleri vergi tabanından düşülürken, sermaye finansmanında pay indirimi yoktur. İkinci olarak, borçlanmanın firma için başarılı bir şekilde gerçekleştirilmesi durumunda, hissedarlar daha fazla pay alma hakkına sahip olacaktır. Bu payda değişiklik olmayacağı için, mali kaynakların belirlenmesi için, mali kaynakların belirlenmesi ve nihai olarak da mali kaynakların belirlenmesi amacıyla, her iki avantaj sağlanmaktadır.</s>\n",
            "--------------------------------------------------\n"
          ]
        }
      ]
    },
    {
      "cell_type": "markdown",
      "source": [
        "**4th article**"
      ],
      "metadata": {
        "id": "35ETDYz6k3I8"
      }
    },
    {
      "cell_type": "code",
      "source": [
        "article_list_tr = [ \"Yapılan çok sayıda çalışma rasyonel seçim teorisinin aksine, tüketici seçimlerinin seçimin bağlam özelliğine duyarlı olduğunu ortaya koymuştur. Bunlardan tuzak etkisi, seçim setine eklenen yeni seçeneğin diğer seçeneklerin tercih payını değiştirdiğini varsaymaktadır. Tuzak etkisi ürün karması ve fiyatlama gibi birçok pazarlama kararı için stratejik öneme sahiptir. Bu çalışmada tuzak etkisinin iki önemli temsilcisi olan cazibe ve uzlaşı etkisinin yanında, bu etkilerin ürün özellikleri ile etkileşimi incelenmiştir. Bu amaçla karma faktöriyel tasarım oluşturulmuş ve araştırma verileri tekrarlı ölçüm ANOVA ile analiz edilmiştir. Araştırma bulguları cazibe etkisinin olduğunu, ancak uzlaşı etkisinin olmadığını göstermiştir. Sonuçlar aynı zamanda cazibe etkisinin ürün özelliğine göre farklılaşmadığına işaret etmektedir.\"]"
      ],
      "metadata": {
        "id": "jHsBr-hYknFn"
      },
      "execution_count": null,
      "outputs": []
    },
    {
      "cell_type": "code",
      "source": [
        "article_list_en = [\"In contrast to rational choice theory, previous many studies claim that consumer choice is often sensitive to the choice characteristics of context. One of them, decoy effect, assumes that adding a new alternative into choice set affects preference share of existing alternatives. Decoy effect has strategic importance for many marketing decisions such as product mix and pricing. In this research, attraction and compromise effect, the two important representatives of decoy effect, and their interaction with product attributes were investigated. For this purpose, mixed factorial design was generated, and research data was analysed using repeated measure ANOVA. The research finding show that attraction effect exists, but no compromise effect. The results also indicate that attraction effect was not differed by product attributes\"]"
      ],
      "metadata": {
        "id": "-oysS_QOlQKK"
      },
      "execution_count": null,
      "outputs": []
    },
    {
      "cell_type": "code",
      "source": [
        "for data in article_list_en:\n",
        "\n",
        "    translation = translate(data)\n",
        "    translation_google = translator.translate(data,dest = 'tr')\n",
        "    print(f'Original Text: {data}\\n ')\n",
        "    print(f'Original Translation:{article_list_tr[0]}\\n{\"-\"*50}')\n",
        "    print(f'Google Translated Text: {translation_google}\\n{\"-\"*50}')\n",
        "    print(f'\\n Helsinki Translated Text: {translation}\\n{\"-\"*50}')"
      ],
      "metadata": {
        "colab": {
          "base_uri": "https://localhost:8080/"
        },
        "id": "fM8HaOhElbjn",
        "outputId": "7aaae630-e0e1-4fe3-d013-855b7bdde449"
      },
      "execution_count": null,
      "outputs": [
        {
          "output_type": "stream",
          "name": "stdout",
          "text": [
            "Original Text: In contrast to rational choice theory, previous many studies claim that consumer choice is often sensitive to the choice characteristics of context. One of them, decoy effect, assumes that adding a new alternative into choice set affects preference share of existing alternatives. Decoy effect has strategic importance for many marketing decisions such as product mix and pricing. In this research, attraction and compromise effect, the two important representatives of decoy effect, and their interaction with product attributes were investigated. For this purpose, mixed factorial design was generated, and research data was analysed using repeated measure ANOVA. The research finding show that attraction effect exists, but no compromise effect. The results also indicate that attraction effect was not differed by product attributes\n",
            " \n",
            "Original Translation:Yapılan çok sayıda çalışma rasyonel seçim teorisinin aksine, tüketici seçimlerinin seçimin bağlam özelliğine duyarlı olduğunu ortaya koymuştur. Bunlardan tuzak etkisi, seçim setine eklenen yeni seçeneğin diğer seçeneklerin tercih payını değiştirdiğini varsaymaktadır. Tuzak etkisi ürün karması ve fiyatlama gibi birçok pazarlama kararı için stratejik öneme sahiptir. Bu çalışmada tuzak etkisinin iki önemli temsilcisi olan cazibe ve uzlaşı etkisinin yanında, bu etkilerin ürün özellikleri ile etkileşimi incelenmiştir. Bu amaçla karma faktöriyel tasarım oluşturulmuş ve araştırma verileri tekrarlı ölçüm ANOVA ile analiz edilmiştir. Araştırma bulguları cazibe etkisinin olduğunu, ancak uzlaşı etkisinin olmadığını göstermiştir. Sonuçlar aynı zamanda cazibe etkisinin ürün özelliğine göre farklılaşmadığına işaret etmektedir.\n",
            "--------------------------------------------------\n",
            "Google Translated Text: Translated(src=en, dest=tr, text=Rasyonel seçim teorisinin aksine, önceki birçok çalışma tüketici seçiminin genellikle bağlamın seçim özelliklerine duyarlı olduğunu iddia etmektedir.Bunlardan biri, Decoy Effect, seçim setine yeni bir alternatif eklemenin mevcut alternatiflerin tercih payını etkilediğini varsayar.Decoy etkisi, ürün karışımı ve fiyatlandırma gibi birçok pazarlama kararında stratejik bir öneme sahiptir.Bu araştırmada, cazibe ve uzlaşma etkisi, tuzak etkisinin iki önemli temsilcisi ve bunların ürün özellikleriyle etkileşimi araştırıldı.Bu amaçla, karışık faktöriyel tasarım üretildi ve araştırma verileri tekrarlanan ölçüm ANOVA kullanılarak analiz edildi.Araştırma bulgusu, cazibe etkisinin var olduğunu, ancak uzlaşma etkisi olmadığını göstermektedir.Sonuçlar ayrıca, cazibe etkisinin ürün özellikleri ile farklı olmadığını göstermektedir., pronunciation=None, extra_data=\"{'confiden...\")\n",
            "--------------------------------------------------\n",
            "\n",
            " Helsinki Translated Text: <pad> Rasyonel seçim kuramının aksine, önceki birçok çalışma tüketici seçiminin genellikle bağlamın seçim özelliklerine duyarlı olduğunu iddia etmektedir. Bunlardan biri, yem efekti, seçim setine yeni bir alternatif eklemenin mevcut alternatiflerin tercih payını etkilediğini varsaymaktadır. Decoy etkisi, ürün karışımı ve fiyatlandırma gibi birçok pazarlama kararlarında stratejik öneme sahiptir. Bu araştırmada, çekim ve uzlaşma etkisinin iki önemli temsilcisi ve ürün öznitelikleri ile etkileşimi araştırılmıştır. Bu amaçla, karışık faktörel tasarım oluşturulmuştur ve araştırma verilerin tekrarlanan bir önlem kullanılarak elde edildiğini varsaymaktadır.</s>\n",
            "--------------------------------------------------\n"
          ]
        }
      ]
    },
    {
      "cell_type": "markdown",
      "source": [
        "**5th article**"
      ],
      "metadata": {
        "id": "_ndnWRqktNV0"
      }
    },
    {
      "cell_type": "code",
      "source": [
        "article_list_tr = [\"Bu çalışma, seçilmiş 10 gelişmiş ülke örneklemi özelinde gelir dağılımı eşitsizliği ile finansal gelişmişlik arasındaki ilişkiyi analiz etmeyi amaçlamaktadır. Finans piyasalarındaki gelişim ile gelir dağılımı arasındaki ilişkinin ekonometrik olarak analizinde Panel Veri Analiz yöntemi kullanılmıştır. Yapılan panel eşbütünleşme testinin sonucunda; serilerin eşbütünleşik olduklarına yani serilerin uzun dönemde birlikte hareket ettiklerine karar verilmiştir. Panel genelinde ENF değişkeni GK değişkenini pozitif yönde istatistiki olarak anlamlı, YK_GSYH ve PK_GSYH değişkenleri ise GK değişkenini azaltıcı (negatif) yönde istatistiki olarak anlamlı bulunmuştur. Dumitrescu ve Hurlin (2012) nedensellik analizinin sonucunda ise bağımsız değişkenler ile Gini bağımlı değişkeni arasında çift yönlü bir nedensellik ilişkisi bulunmuştur.\"]"
      ],
      "metadata": {
        "id": "Yor5vdNJtPsI"
      },
      "execution_count": null,
      "outputs": []
    },
    {
      "cell_type": "code",
      "source": [
        "article_list_en = [\"This study aims to analyze the relationship between inequality and development for 10 selected developed countries. Panel Data Analysis method was used in analysis of the relationship. In the panel cointegration test; it has found that the series are cointegrated and they move together in the long run. In the panel, the ENF has found statistically significant in the positive direction of the GK, the YK_GSYH and PK_GSYH have found statistically significant in the decreasing direction of the GK. The test of Dumitrescu and Hurlin (2012), a bidirectional causality relationship was found between the independent variables and the Gini.\"]"
      ],
      "metadata": {
        "id": "sLcyCfDotXa-"
      },
      "execution_count": null,
      "outputs": []
    },
    {
      "cell_type": "code",
      "source": [
        "for data in article_list_en:\n",
        "\n",
        "    translation = translate(data)\n",
        "    translation_google = translator.translate(data,dest = 'tr')\n",
        "    print(f'Original Text: {data}\\n ')\n",
        "    print(f'Original Translation:{article_list_tr[0]}\\n{\"-\"*50}')\n",
        "    print(f'Google Translated Text: {translation_google}\\n{\"-\"*50}')\n",
        "    print(f'\\n Helsinki Translated Text: {translation}\\n{\"-\"*50}')"
      ],
      "metadata": {
        "id": "lfNcQtLitjcT",
        "outputId": "f7d3fdcb-eb6e-4ccd-9658-2568a7eff0ad",
        "colab": {
          "base_uri": "https://localhost:8080/"
        }
      },
      "execution_count": null,
      "outputs": [
        {
          "output_type": "stream",
          "name": "stdout",
          "text": [
            "Original Text: This study aims to analyze the relationship between inequality and development for 10 selected developed countries. Panel Data Analysis method was used in analysis of the relationship. In the panel cointegration test; it has found that the series are cointegrated and they move together in the long run. In the panel, the ENF has found statistically significant in the positive direction of the GK, the YK_GSYH and PK_GSYH have found statistically significant in the decreasing direction of the GK. The test of Dumitrescu and Hurlin (2012), a bidirectional causality relationship was found between the independent variables and the Gini.\n",
            " \n",
            "Original Translation:Bu çalışma, seçilmiş 10 gelişmiş ülke örneklemi özelinde gelir dağılımı eşitsizliği ile finansal gelişmişlik arasındaki ilişkiyi analiz etmeyi amaçlamaktadır. Finans piyasalarındaki gelişim ile gelir dağılımı arasındaki ilişkinin ekonometrik olarak analizinde Panel Veri Analiz yöntemi kullanılmıştır. Yapılan panel eşbütünleşme testinin sonucunda; serilerin eşbütünleşik olduklarına yani serilerin uzun dönemde birlikte hareket ettiklerine karar verilmiştir. Panel genelinde ENF değişkeni GK değişkenini pozitif yönde istatistiki olarak anlamlı, YK_GSYH ve PK_GSYH değişkenleri ise GK değişkenini azaltıcı (negatif) yönde istatistiki olarak anlamlı bulunmuştur. Dumitrescu ve Hurlin (2012) nedensellik analizinin sonucunda ise bağımsız değişkenler ile Gini bağımlı değişkeni arasında çift yönlü bir nedensellik ilişkisi bulunmuştur.\n",
            "--------------------------------------------------\n",
            "Google Translated Text: Translated(src=en, dest=tr, text=Bu çalışma, seçilen 10 gelişmiş ülke için eşitsizlik ve kalkınma arasındaki ilişkiyi analiz etmeyi amaçlamaktadır.İlişkinin analizinde panel veri analiz yöntemi kullanılmıştır.Panel eşbütünleşme testinde;Serinin eşbütünleştiğini ve uzun vadede birlikte hareket ettiklerini buldu.Panelde ENF, GK'nın pozitif yönünde istatistiksel olarak anlamlı bulmuştur, YK_GSYH ve PK_GSYH, GK'nin azalan yönünde istatistiksel olarak anlamlı bulmuştur.Dumitrescu ve Hurlin (2012) testi, bağımsız değişkenler ve Gini arasında çift yönlü bir nedensellik ilişkisi bulunmuştur., pronunciation=None, extra_data=\"{'confiden...\")\n",
            "--------------------------------------------------\n",
            "\n",
            " Helsinki Translated Text: <pad> Bu çalışma, seçilmiş 10 ülke için eşitsizlik ve gelişim arasındaki ilişkiyi analiz etmeyi amaçlamaktadır. Panel Veri Analiz yöntemi ilişkinin analizinde kullanılmıştır. Panel eşzamanlılık testinde serinin eşzamanlı olduğu ve uzun vadede birlikte hareket ettikleri bulunmuştur. Panelde ENF, GK'nin pozitif yönde istatistiksel olarak önemli bir yer bulmuştur, YK_GSYH ve PK_GSYH, GK ile GK'nin azalan doğrultuda istatistiksel olarak önemli bir öneme sahip bulunmuştur. Dumitcu Hurlin'in testi (2001) ile çift yönlü bir değişkenlik arasında bir ilişki bulunmuştur.</s>\n",
            "--------------------------------------------------\n"
          ]
        }
      ]
    }
  ]
}